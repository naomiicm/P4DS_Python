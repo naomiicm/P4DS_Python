{
  "nbformat": 4,
  "nbformat_minor": 0,
  "metadata": {
    "colab": {
      "provenance": []
    },
    "kernelspec": {
      "name": "python3",
      "display_name": "Python 3"
    },
    "language_info": {
      "name": "python"
    }
  },
  "cells": [
    {
      "cell_type": "code",
      "execution_count": 1,
      "metadata": {
        "id": "5Q8nSpCGzjdh"
      },
      "outputs": [],
      "source": [
        "import numpy as np\n",
        "import pandas as pd\n",
        "import math\n",
        "import cmath as im\n",
        "import statistics as st\n",
        "import random\n",
        "import copy\n",
        "\n",
        "from datetime import date"
      ]
    },
    {
      "cell_type": "markdown",
      "source": [
        "Write and run a program that displays your first\n",
        "and last name:"
      ],
      "metadata": {
        "id": "TU-ypdvYRBfh"
      }
    },
    {
      "cell_type": "code",
      "source": [
        "name = input('Insert your name: ')\n",
        "surname = input('Insert your surname: ')\n",
        "\n",
        "print(name, surname)"
      ],
      "metadata": {
        "id": "g8a512dOQ7xY"
      },
      "execution_count": null,
      "outputs": []
    },
    {
      "cell_type": "markdown",
      "source": [
        "Write and run a program that uses all math operations (pay attention to precedences):"
      ],
      "metadata": {
        "id": "kAaBKKzPRELO"
      }
    },
    {
      "cell_type": "code",
      "source": [
        "a = int(input('Enter a number: '))\n",
        "b = int(input('Enter another number: '))\n",
        "\n",
        "print(\"Sum: \", a+b, \"\\nSubtraction:\", a-b, \"\\nMultiplication: \", a*b, \"\\nDivision: \", a/b, \"\\nRemainder: \", a%b, \"\\nPower: \", a**b)"
      ],
      "metadata": {
        "id": "K2K2E79AQ704"
      },
      "execution_count": null,
      "outputs": []
    }
  ]
}